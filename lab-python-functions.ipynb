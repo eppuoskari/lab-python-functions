{
 "cells": [
  {
   "cell_type": "markdown",
   "id": "25d7736c-ba17-4aff-b6bb-66eba20fbf4e",
   "metadata": {},
   "source": [
    "# Lab | Functions"
   ]
  },
  {
   "cell_type": "markdown",
   "id": "0c581062-8967-4d93-b06e-62833222f930",
   "metadata": {
    "tags": []
   },
   "source": [
    "## Exercise: Managing Customer Orders with Functions\n",
    "\n",
    "In the previous exercise, you improved the code for managing customer orders by using loops and flow control. Now, let's take it a step further and refactor the code by introducing functions.\n",
    "\n",
    "Follow the steps below to complete the exercise:\n",
    "\n",
    "1. Define a function named `initialize_inventory` that takes `products` as a parameter. Inside the function, implement the code for initializing the inventory dictionary using a loop and user input.\n",
    "\n",
    "2. Define a function named `get_customer_orders` that takes no parameters. Inside the function, implement the code for prompting the user to enter the product names using a loop. The function should return the `customer_orders` set.\n",
    "\n",
    "3. Define a function named `update_inventory` that takes `customer_orders` and `inventory` as parameters. Inside the function, implement the code for updating the inventory dictionary based on the customer orders.\n",
    "\n",
    "4. Define a function named `calculate_order_statistics` that takes `customer_orders` and `products` as parameters. Inside the function, implement the code for calculating the order statistics (total products ordered, and percentage of unique products ordered). The function should return these values.\n",
    "\n",
    "5. Define a function named `print_order_statistics` that takes `order_statistics` as a parameter. Inside the function, implement the code for printing the order statistics.\n",
    "\n",
    "6. Define a function named `print_updated_inventory` that takes `inventory` as a parameter. Inside the function, implement the code for printing the updated inventory.\n",
    "\n",
    "7. Call the functions in the appropriate sequence to execute the program and manage customer orders.\n",
    "\n",
    "Hints for functions:\n",
    "\n",
    "- Consider the input parameters required for each function and their return values.\n",
    "- Utilize function parameters and return values to transfer data between functions.\n",
    "- Test your functions individually to ensure they work correctly.\n",
    "\n",
    "\n"
   ]
  },
  {
   "cell_type": "code",
   "execution_count": 1,
   "id": "56e8d58f-358f-4f4a-a7d3-5ff0b7f3c5ec",
   "metadata": {},
   "outputs": [],
   "source": [
    "# 1.\n",
    "\n",
    "def initialize_inventory(products):\n",
    "    for i in products:\n",
    "        inventory[i] = int(input(f\"Update the available quantity of {i}s\"))\n",
    "\n",
    "    return inventory\n",
    "\n",
    "\n",
    "# 2.\n",
    "\n",
    "def get_customer_orders():\n",
    "    \n",
    "    more = 'yes'\n",
    "\n",
    "    while more == 'yes':\n",
    "        product_name = input(\"Enter the name of a product that a customer wants: \")\n",
    "        customer_orders.add(product_name)\n",
    "        more = input(\"Would you like to order another product (yes/no) ?:\")\n",
    "    print(\"Products in customer orders: \", customer_orders)    \n",
    "\n",
    "    return customer_orders\n",
    "\n",
    "\n",
    "# 3.\n",
    "\n",
    "def update_inventory(customer_orders, inventory):\n",
    "    \n",
    "    for item in list(customer_orders):\n",
    "        inventory[item] -= 1\n",
    "\n",
    "    return inventory\n",
    "\n",
    "\n",
    "# 4. \n",
    "\n",
    "def calculate_order_statistics(customer_orders, products):\n",
    "\n",
    "    total_products_ordered = len(customer_orders)\n",
    "    percentage_ordered = (total_products_ordered / len(products)) * 100\n",
    "    \n",
    "    order_statistics = (total_products_ordered, percentage_ordered)\n",
    "\n",
    "    return order_statistics\n",
    "\n",
    "\n",
    "# 5.\n",
    "\n",
    "def print_order_statistics(order_statistics):\n",
    "\n",
    "    print(\"Order Statistics: \")\n",
    "    print(\"Total products ordered: \", order_statistics[0])\n",
    "    print(\"Percentage of unique products ordered: \", order_statistics[1],\"%\")\n",
    "    \n",
    "\n",
    "# 6. \n",
    "\n",
    "def print_updated_inventory(inventory):\n",
    "    for item in inventory.keys():\n",
    "        print(f\"{item}s left: {inventory[item]}\")"
   ]
  },
  {
   "cell_type": "code",
   "execution_count": 2,
   "id": "c7a64422-11fb-4390-a1e0-6217e3f4ad67",
   "metadata": {},
   "outputs": [],
   "source": [
    "products = [\"t-shirt\", \"mug\", \"hat\", \"book\", \"keychain\"]\n",
    "inventory = {}\n",
    "customer_orders = set()"
   ]
  },
  {
   "cell_type": "code",
   "execution_count": null,
   "id": "e0c3c3e9-62c6-460b-b4fe-1a4814b75b77",
   "metadata": {},
   "outputs": [
    {
     "name": "stdout",
     "output_type": "stream",
     "text": [
      "Update the available quantity of t-shirts 10\n",
      "Update the available quantity of mugs 10\n",
      "Update the available quantity of hats 10\n",
      "Update the available quantity of books 10\n",
      "Update the available quantity of keychains 10\n",
      "Enter the name of a product that a customer wants:  mug\n",
      "Would you like to order another product (yes/no) ?: no\n"
     ]
    },
    {
     "name": "stdout",
     "output_type": "stream",
     "text": [
      "Products in customer orders:  {'mug'}\n",
      "Order Statistics: \n",
      "Total products ordered:  1\n",
      "Percentage of unique products ordered:  20.0 %\n",
      "t-shirts left: 10\n",
      "mugs left: 9\n",
      "hats left: 10\n",
      "books left: 10\n",
      "keychains left: 10\n"
     ]
    }
   ],
   "source": [
    "# 7.\n",
    "\n",
    "initialize_inventory(products)\n",
    "get_customer_orders()\n",
    "update_inventory(customer_orders, inventory)\n",
    "\n",
    "print_order_statistics(\n",
    "    calculate_order_statistics(customer_orders, products))\n",
    "\n",
    "print_updated_inventory(inventory)"
   ]
  }
 ],
 "metadata": {
  "kernelspec": {
   "display_name": "Python [conda env:base] *",
   "language": "python",
   "name": "conda-base-py"
  },
  "language_info": {
   "codemirror_mode": {
    "name": "ipython",
    "version": 3
   },
   "file_extension": ".py",
   "mimetype": "text/x-python",
   "name": "python",
   "nbconvert_exporter": "python",
   "pygments_lexer": "ipython3",
   "version": "3.13.5"
  }
 },
 "nbformat": 4,
 "nbformat_minor": 5
}
